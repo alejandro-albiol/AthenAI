{
 "cells": [
  {
   "cell_type": "markdown",
   "id": "8a3cf6af",
   "metadata": {},
   "source": [
    "# 🏋️ AthenAI Exercise Database Refactor & Export\n",
    "\n",
    "This notebook will:\n",
    "1. Load Kaggle and GitHub exercise datasets.\n",
    "2. Normalize all fields to match your domain schema (see public.go).\n",
    "3. Deduplicate exercises and preserve all domain-relevant data.\n",
    "4. Build DataFrames for each table and join table (exercise, muscular_group, equipment, exercise_muscular_group, exercise_equipment, etc.).\n",
    "5. Export each as a CSV for bulk import into PostgreSQL.\n",
    "6. Download CSVs for local import (no direct DB connection needed)."
   ]
  },
  {
   "cell_type": "code",
   "execution_count": null,
   "id": "5e980150",
   "metadata": {},
   "outputs": [],
   "source": [
    "# Install required libraries\n",
    "%pip install pandas requests kaggle --quiet"
   ]
  },
  {
   "cell_type": "markdown",
   "id": "82d86215",
   "metadata": {},
   "source": [
    "## 🔑 Kaggle API Setup\n",
    "Upload your kaggle.json file to access the Kaggle dataset."
   ]
  },
  {
   "cell_type": "code",
   "execution_count": null,
   "id": "22888270",
   "metadata": {},
   "outputs": [],
   "source": [
    "from google.colab import files # type: ignore\n",
    "files.upload()  # Upload kaggle.json\n",
    "!mkdir -p ~/.kaggle\n",
    "!mv kaggle.json ~/.kaggle/\n",
    "!chmod 600 ~/.kaggle/kaggle.json"
   ]
  },
  {
   "cell_type": "markdown",
   "id": "960d270a",
   "metadata": {},
   "source": [
    "## 📥 Load Datasets"
   ]
  },
  {
   "cell_type": "code",
   "execution_count": null,
   "id": "f32940cb",
   "metadata": {},
   "outputs": [],
   "source": [
    "import pandas as pd # type: ignore\n",
    "import requests # type: ignore\n",
    "\n",
    "# Kaggle dataset\n",
    "!kaggle datasets download -d niharika41298/gym-exercise-data -p /content --unzip\n",
    "df_kaggle = pd.read_csv('/content/megaGymDataset.csv')\n",
    "\n",
    "# GitHub dataset\n",
    "url = 'https://raw.githubusercontent.com/yuhonas/free-exercise-db/main/dist/exercises.json'\n",
    "df_github = pd.read_json(url)"
   ]
  },
  {
   "cell_type": "markdown",
   "id": "4be3afea",
   "metadata": {},
   "source": [
    "## 🔄 Normalize to Domain Schema\n",
    "Map all fields needed for your public.exercise, muscular_group, equipment, and join tables."
   ]
  },
  {
   "cell_type": "code",
   "execution_count": null,
   "id": "28ade3b0",
   "metadata": {},
   "outputs": [],
   "source": [
    "def canonicalize(name):\n",
    "    if not isinstance(name, str): return None\n",
    "    name = name.strip().lower()\n",
    "    norm_map = {\n",
    "        'kettlebells': 'kettlebell', 'dumbbells': 'dumbbell', 'barbells': 'barbell',\n",
    "        'bands': 'resistance band', 'band': 'resistance band',\n",
    "        'body only': 'bodyweight', 'bodyweight': 'bodyweight',\n",
    "        'machines': 'machine', 'machine': 'machine',\n",
    "        'cable': 'cable', 'e-z curl bar': 'barbell',\n",
    "        'exercise ball': 'exercise ball', 'medicine ball': 'medicine ball',\n",
    "        'foam roll': 'foam roll', 'other': 'other', 'accessories': 'other'\n",
    "    }\n",
    "    return norm_map.get(name, name)\n",
    "\n",
    "def normalize_kaggle(row):\n",
    "    return {\n",
    "        'name': row.get('Title'),\n",
    "        'difficulty_level': (row.get('Level') or 'beginner').lower(),\n",
    "        'exercise_type': (row.get('Type') or 'strength').lower(),\n",
    "        'instructions': row.get('Desc'),\n",
    "        'video_url': None,\n",
    "        'image_url': None,\n",
    "        'muscular_groups': [canonicalize(row.get('BodyPart'))] if row.get('BodyPart') else [],\n",
    "        'equipment': [canonicalize(row.get('Equipment'))] if row.get('Equipment') else []\n",
    "    }\n",
    "\n",
    "def normalize_github(row):\n",
    "    return {\n",
    "        'name': row.get('name'),\n",
    "        'difficulty_level': (row.get('level') or 'beginner').lower(),\n",
    "        'exercise_type': (row.get('category') or 'strength').lower(),\n",
    "        'instructions': ' '.join(row.get('instructions', [])) if isinstance(row.get('instructions'), list) else None,\n",
    "        'video_url': row.get('videoURL'),\n",
    "        'image_url': row['images'][0] if isinstance(row.get('images'), list) and len(row['images']) > 0 else None,\n",
    "        'muscular_groups': [canonicalize(mg) for mg in row.get('primaryMuscles', []) + row.get('secondaryMuscles', []) if mg],\n",
    "        'equipment': [canonicalize(row.get('equipment'))] if row.get('equipment') else []\n",
    "    }\n",
    "\n",
    "clean_kaggle = [normalize_kaggle(r) for r in df_kaggle.to_dict(orient='records')]\n",
    "clean_github = [normalize_github(r) for r in df_github.to_dict(orient='records')]\n",
    "\n",
    "df_clean = pd.DataFrame(clean_kaggle + clean_github)"
   ]
  },
  {
   "cell_type": "markdown",
   "id": "24100f6b",
   "metadata": {},
   "source": [
    "## 🧹 Deduplicate Exercises\n",
    "Deduplicate by name and preserve all domain-relevant data."
   ]
  },
  {
   "cell_type": "code",
   "execution_count": null,
   "id": "c3aee885",
   "metadata": {},
   "outputs": [],
   "source": [
    "df_clean['name_lower'] = df_clean['name'].str.lower()\n",
    "df_clean = df_clean.drop_duplicates(subset=['name_lower']).drop(columns=['name_lower'])\n",
    "print('Final exercise count:', len(df_clean))"
   ]
  },
  {
   "cell_type": "markdown",
   "id": "60c6d92d",
   "metadata": {},
   "source": [
    "## 🗂️ Build DataFrames for Each Table\n",
    "Create DataFrames for exercise, muscular_group, equipment, and join tables."
   ]
  },
  {
   "cell_type": "code",
   "execution_count": null,
   "id": "0baf2471",
   "metadata": {},
   "outputs": [],
   "source": [
    "# Exercise table (no synonyms column)\n",
    "exercise_cols = ['name', 'difficulty_level', 'exercise_type', 'instructions', 'video_url', 'image_url']\n",
    "df_exercise = df_clean[exercise_cols].copy()\n",
    "df_exercise.to_csv('exercise.csv', index=False)\n",
    "\n",
    "# Muscular group table (from all unique canonical muscular groups)\n",
    "all_mg = set(mg for ex in df_clean['muscular_groups'] for mg in ex if mg)\n",
    "df_mg = pd.DataFrame({'name': sorted(list(all_mg))})\n",
    "df_mg.to_csv('muscular_group.csv', index=False)\n",
    "\n",
    "# Equipment table (from all unique canonical equipment)\n",
    "all_eq = set(eq for ex in df_clean['equipment'] for eq in ex if eq)\n",
    "df_eq = pd.DataFrame({'name': sorted(list(all_eq))})\n",
    "df_eq.to_csv('equipment.csv', index=False)\n",
    "\n",
    "# Join tables\n",
    "exercise_mg_rows = []\n",
    "for idx, ex in df_clean.iterrows():\n",
    "    for mg in ex['muscular_groups']:\n",
    "        exercise_mg_rows.append({'exercise_name': ex['name'], 'muscular_group_name': mg})\n",
    "df_exercise_mg = pd.DataFrame(exercise_mg_rows)\n",
    "df_exercise_mg.to_csv('exercise_muscular_group.csv', index=False)\n",
    "\n",
    "exercise_eq_rows = []\n",
    "for idx, ex in df_clean.iterrows():\n",
    "    for eq in ex['equipment']:\n",
    "        exercise_eq_rows.append({'exercise_name': ex['name'], 'equipment_name': eq})\n",
    "df_exercise_eq = pd.DataFrame(exercise_eq_rows)\n",
    "df_exercise_eq.to_csv('exercise_equipment.csv', index=False)"
   ]
  },
  {
   "cell_type": "markdown",
   "id": "25f3fd59",
   "metadata": {},
   "source": [
    "## 💾 Download CSVs for Local Import\n",
    "Download all CSVs to your local machine for bulk import into PostgreSQL."
   ]
  },
  {
   "cell_type": "code",
   "execution_count": null,
   "id": "4d138165",
   "metadata": {},
   "outputs": [],
   "source": [
    "from google.colab import files # type: ignore\n",
    "for fname in ['exercise.csv', 'muscular_group.csv', 'equipment.csv', 'exercise_muscular_group.csv', 'exercise_equipment.csv']:\n",
    "    files.download(fname)"
   ]
  }
 ],
 "metadata": {
  "language_info": {
   "name": "python"
  }
 },
 "nbformat": 4,
 "nbformat_minor": 5
}
